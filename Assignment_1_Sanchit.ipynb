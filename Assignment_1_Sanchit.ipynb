{
  "nbformat": 4,
  "nbformat_minor": 0,
  "metadata": {
    "colab": {
      "provenance": [],
      "authorship_tag": "ABX9TyPHsHM87Ip4+kXqgbmelyNm",
      "include_colab_link": true
    },
    "kernelspec": {
      "name": "python3",
      "display_name": "Python 3"
    },
    "language_info": {
      "name": "python"
    }
  },
  "cells": [
    {
      "cell_type": "markdown",
      "metadata": {
        "id": "view-in-github",
        "colab_type": "text"
      },
      "source": [
        "<a href=\"https://colab.research.google.com/github/santheartist/small.projects/blob/main/Assignment_1_Sanchit.ipynb\" target=\"_parent\"><img src=\"https://colab.research.google.com/assets/colab-badge.svg\" alt=\"Open In Colab\"/></a>"
      ]
    },
    {
      "cell_type": "code",
      "execution_count": 1,
      "metadata": {
        "colab": {
          "base_uri": "https://localhost:8080/",
          "height": 923
        },
        "id": "jw6szJzLPmlu",
        "outputId": "ccaa4994-27df-43d7-cf8c-4161019246cf"
      },
      "outputs": [
        {
          "output_type": "stream",
          "name": "stdout",
          "text": [
            "Epoch 0 | Loss: 0.262916\n",
            "Epoch 500 | Loss: 0.045298\n",
            "Epoch 1000 | Loss: 0.005853\n",
            "Epoch 1500 | Loss: 0.002788\n",
            "Epoch 2000 | Loss: 0.001787\n",
            "Epoch 2500 | Loss: 0.001302\n",
            "Epoch 3000 | Loss: 0.001019\n",
            "Epoch 3500 | Loss: 0.000834\n",
            "Epoch 4000 | Loss: 0.000705\n",
            "Epoch 4500 | Loss: 0.000609\n",
            "Epoch 5000 | Loss: 0.000536\n",
            "Epoch 5500 | Loss: 0.000478\n",
            "Epoch 6000 | Loss: 0.000431\n",
            "Epoch 6500 | Loss: 0.000392\n",
            "Epoch 7000 | Loss: 0.000360\n",
            "Epoch 7500 | Loss: 0.000332\n",
            "Epoch 8000 | Loss: 0.000309\n",
            "Epoch 8500 | Loss: 0.000288\n",
            "Epoch 9000 | Loss: 0.000270\n",
            "Epoch 9500 | Loss: 0.000254\n"
          ]
        },
        {
          "output_type": "display_data",
          "data": {
            "text/plain": [
              "<Figure size 640x480 with 1 Axes>"
            ],
            "image/png": "[encoded data removed]"
          },
          "metadata": {}
        },
        {
          "output_type": "stream",
          "name": "stdout",
          "text": [
            "\n",
            "Predictions:\n",
            "Input: [0 0] -> Predicted: [[0.]]\n",
            "Input: [0 1] -> Predicted: [[1.]]\n",
            "Input: [1 0] -> Predicted: [[1.]]\n",
            "Input: [1 1] -> Predicted: [[0.]]\n"
          ]
        }
      ],
      "source": [
        "import numpy as np\n",
        "import matplotlib.pyplot as plt\n",
        "\n",
        "# Activation Functions\n",
        "def sigmoid_fn(z):\n",
        "    return 1 / (1 + np.exp(-z))\n",
        "\n",
        "def sigmoid_deriv(z):\n",
        "    return z * (1 - z)\n",
        "\n",
        "# Loss Function: Mean Squared Error\n",
        "def mean_squared_error(actual, predicted):\n",
        "    return np.mean(np.square(actual - predicted))\n",
        "\n",
        "# Neural Network Class\n",
        "class SimpleNeuralNet:\n",
        "    def __init__(self, n_inputs, n_hidden, n_outputs, alpha=0.1):\n",
        "        self.n_inputs = n_inputs\n",
        "        self.n_hidden = n_hidden\n",
        "        self.n_outputs = n_outputs\n",
        "        self.alpha = alpha\n",
        "\n",
        "        # Initialize weights and biases\n",
        "        self.W1 = np.random.uniform(-1, 1, (n_inputs, n_hidden))\n",
        "        self.b1 = np.zeros((1, n_hidden))\n",
        "\n",
        "        self.W2 = np.random.uniform(-1, 1, (n_hidden, n_outputs))\n",
        "        self.b2 = np.zeros((1, n_outputs))\n",
        "\n",
        "    def forward_pass(self, X):\n",
        "        self.hidden_layer_input = np.dot(X, self.W1) + self.b1\n",
        "        self.hidden_layer_output = sigmoid_fn(self.hidden_layer_input)\n",
        "\n",
        "        self.output_layer_input = np.dot(self.hidden_layer_output, self.W2) + self.b2\n",
        "        self.output = sigmoid_fn(self.output_layer_input)\n",
        "\n",
        "        return self.output\n",
        "\n",
        "    def backward_pass(self, X, y, pred):\n",
        "        output_error = y - pred\n",
        "        output_delta = output_error * sigmoid_deriv(pred)\n",
        "\n",
        "        hidden_error = np.dot(output_delta, self.W2.T)\n",
        "        hidden_delta = hidden_error * sigmoid_deriv(self.hidden_layer_output)\n",
        "\n",
        "        # Update weights and biases\n",
        "        self.W2 += self.hidden_layer_output.T.dot(output_delta) * self.alpha\n",
        "        self.b2 += np.sum(output_delta, axis=0, keepdims=True) * self.alpha\n",
        "\n",
        "        self.W1 += X.T.dot(hidden_delta) * self.alpha\n",
        "        self.b1 += np.sum(hidden_delta, axis=0, keepdims=True) * self.alpha\n",
        "\n",
        "    def fit(self, X, y, iterations=10000):\n",
        "        history = []\n",
        "        for i in range(iterations):\n",
        "            prediction = self.forward_pass(X)\n",
        "            self.backward_pass(X, y, prediction)\n",
        "            loss = mean_squared_error(y, prediction)\n",
        "            history.append(loss)\n",
        "\n",
        "            if i % 500 == 0:\n",
        "                print(f\"Epoch {i} | Loss: {loss:.6f}\")\n",
        "        return history\n",
        "\n",
        "    def predict(self, X):\n",
        "        return self.forward_pass(X)\n",
        "\n",
        "# XOR Dataset\n",
        "np.random.seed(42)\n",
        "X_train = np.array([[0,0], [0,1], [1,0], [1,1]])\n",
        "y_train = np.array([[0], [1], [1], [0]])\n",
        "\n",
        "# Train Model\n",
        "model = SimpleNeuralNet(n_inputs=2, n_hidden=4, n_outputs=1, alpha=0.5)\n",
        "losses = model.fit(X_train, y_train, iterations=10000)\n",
        "\n",
        "# Plotting the training loss\n",
        "plt.plot(losses)\n",
        "plt.title(\"Loss Curve During Training\")\n",
        "plt.xlabel(\"Epochs\")\n",
        "plt.ylabel(\"MSE Loss\")\n",
        "plt.grid(True)\n",
        "plt.show()\n",
        "\n",
        "# Evaluate model\n",
        "print(\"\\nPredictions:\")\n",
        "for x in X_train:\n",
        "    prediction = model.predict(x.reshape(1, -1))\n",
        "    print(f\"Input: {x} -> Predicted: {np.round(prediction)}\")\n",
        "\n",
        ""
      ]
    }
  ]
}